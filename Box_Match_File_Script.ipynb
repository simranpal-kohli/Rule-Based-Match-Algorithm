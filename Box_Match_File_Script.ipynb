{
 "cells": [
  {
   "cell_type": "code",
   "execution_count": 1,
   "metadata": {},
   "outputs": [],
   "source": [
    "import os\n",
    "import pandas as pd\n",
    "import re\n",
    "import numpy as np\n",
    "import glob\n",
    "# path='/Users/simranpal20gmail.com/Documents/Apple/Data/Week13/Manual_Match'"
   ]
  },
  {
   "cell_type": "code",
   "execution_count": 2,
   "metadata": {},
   "outputs": [],
   "source": [
    "Week_number=\"Week16\""
   ]
  },
  {
   "cell_type": "code",
   "execution_count": null,
   "metadata": {},
   "outputs": [],
   "source": [
    "# path='/Users/simranpal20gmail.com/Documents/Apple/Data/Week14/Manual_Match/Country_codes'\n",
    "path=\"/Users/simranpal20gmail.com/Documents/Apple/Data/\"+Week_number+\"/Manual_Match/Country_codes\"\n",
    "os.chdir(path)\n",
    "cc_write = pd.ExcelWriter('Simran_ManualMatch_ctry_codes.xlsx')\n",
    "\n",
    "simran_code_ls=['IT','DK','IN','FR','AT','FI','RU','ES','CZ','PL','CH','TR','PT','RO','LU','LT']\n",
    "simran_code_cols=['name_ctry','Sum of Qty','Matching Status','Child Name','Parent Name','Nice ID']\n",
    "simran_code_df = pd.DataFrame(columns=simran_code_cols)\n",
    "\n",
    "\n",
    "for cc_code in simran_code_ls:\n",
    "    simran_code_df = pd.DataFrame(columns=simran_code_cols)\n",
    "    temp_code_df=trans_pivot[trans_pivot.code==cc_code][['name_ctry','ST_QTY','STATUS']]\n",
    "    temp_code_df['Matching Status']=\"Not Matched\"\n",
    "    temp_code_df[\"Child Name\"] = \"\"\n",
    "    temp_code_df[\"Parent Name\"] = \"\"\n",
    "    temp_code_df[\"Nice ID\"] = \"\"\n",
    "#     simran_code_df=simran_code_df.append(temp_code_df)\n",
    "#     simran_code_df.to_excel(cc_write, sheet_name=str(cc_code))\n",
    "    temp_code_df.to_excel(cc_write, sheet_name=str(cc_code))\n",
    "cc_write.save()"
   ]
  },
  {
   "cell_type": "code",
   "execution_count": null,
   "metadata": {},
   "outputs": [],
   "source": [
    "# path='/Users/simranpal20gmail.com/Documents/Apple/Data/Week14/Manual_Match/Country_codes'\n",
    "path=\"/Users/simranpal20gmail.com/Documents/Apple/Data/\"+Week_number+\"/Manual_Match/Country_codes\"\n",
    "os.chdir(path)\n",
    "cc_write = pd.ExcelWriter('Simran_ManualMatch_ctry_codes.xlsx')\n",
    "\n",
    "simran_code_ls=['IT','DK','IN','FR','AT','FI','RU','ES','CZ','PL','CH','TR','PT','RO','LU','LT']\n",
    "simran_code_cols=['name_ctry','Sum of Qty','Matching Status','Child Name','Parent Name','Nice ID']\n",
    "simran_code_df = pd.DataFrame(columns=simran_code_cols)\n",
    "\n",
    "\n",
    "for cc_code in simran_code_ls:\n",
    "    simran_code_df = pd.DataFrame(columns=simran_code_cols)\n",
    "    temp_code_df=trans_pivot[trans_pivot.code==cc_code][['name_ctry','ST_QTY','STATUS']]\n",
    "    temp_code_df['Matching Status']=\"Not Matched\"\n",
    "    temp_code_df[\"Child Name\"] = \"\"\n",
    "    temp_code_df[\"Parent Name\"] = \"\"\n",
    "    temp_code_df[\"Nice ID\"] = \"\"\n",
    "#     simran_code_df=simran_code_df.append(temp_code_df)\n",
    "#     simran_code_df.to_excel(cc_write, sheet_name=str(cc_code))\n",
    "    temp_code_df.to_excel(cc_write, sheet_name=str(cc_code))\n",
    "cc_write.save()"
   ]
  }
 ],
 "metadata": {
  "kernelspec": {
   "display_name": "Python 3",
   "language": "python",
   "name": "python3"
  },
  "language_info": {
   "codemirror_mode": {
    "name": "ipython",
    "version": 3
   },
   "file_extension": ".py",
   "mimetype": "text/x-python",
   "name": "python",
   "nbconvert_exporter": "python",
   "pygments_lexer": "ipython3",
   "version": "3.8.5"
  }
 },
 "nbformat": 4,
 "nbformat_minor": 4
}
