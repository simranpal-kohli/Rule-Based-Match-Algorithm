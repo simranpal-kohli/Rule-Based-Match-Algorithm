{
 "cells": [
  {
   "cell_type": "code",
   "execution_count": 35,
   "metadata": {},
   "outputs": [],
   "source": [
    "import os\n",
    "import pandas as pd\n",
    "import re\n",
    "import numpy as np\n",
    "import glob\n",
    "from stop_words import get_stop_words\n",
    "from num2words import num2words "
   ]
  },
  {
   "cell_type": "code",
   "execution_count": 36,
   "metadata": {},
   "outputs": [],
   "source": [
    "path=\"/Users/simranpal20gmail.com/Documents/Apple/Data/RELOADS/quip\"\n",
    "os.chdir(path)\n",
    "# quip_file = os.listdir(path)\n",
    "# quip_file=quip_file[1]\n",
    "quip_df = pd.read_excel('Q2_21_1.xlsx')"
   ]
  },
  {
   "cell_type": "code",
   "execution_count": 37,
   "metadata": {},
   "outputs": [],
   "source": [
    "pay_week_ls=list(range(1,40))\n",
    "fiscal_week_ls=list(range(14,53))\n",
    "fiscal_week_ds = dict(zip(pay_week_ls, fiscal_week_ls))\n",
    "def rearrage_weeks(weeks_impacted_ls,final_ls):\n",
    "    for indx, pay_week in enumerate(weeks_impacted_ls):\n",
    "        final_ls.append(str(fiscal_week_ds[int(pay_week)]))\n",
    "    return final_ls"
   ]
  },
  {
   "cell_type": "code",
   "execution_count": 38,
   "metadata": {},
   "outputs": [],
   "source": [
    "string_val_9='FY21W0'\n",
    "string_val_above9='FY21W'\n",
    "def week_number_9(no):\n",
    "    if(int(no) <= 9):\n",
    "        return (string_val_9 + no)\n",
    "    else:\n",
    "        return (string_val_above9 + no)"
   ]
  },
  {
   "cell_type": "code",
   "execution_count": 40,
   "metadata": {},
   "outputs": [
    {
     "data": {
      "text/html": [
       "<div>\n",
       "<style scoped>\n",
       "    .dataframe tbody tr th:only-of-type {\n",
       "        vertical-align: middle;\n",
       "    }\n",
       "\n",
       "    .dataframe tbody tr th {\n",
       "        vertical-align: top;\n",
       "    }\n",
       "\n",
       "    .dataframe thead th {\n",
       "        text-align: right;\n",
       "    }\n",
       "</style>\n",
       "<table border=\"1\" class=\"dataframe\">\n",
       "  <thead>\n",
       "    <tr style=\"text-align: right;\">\n",
       "      <th></th>\n",
       "      <th>Date entered</th>\n",
       "      <th>Issue Type</th>\n",
       "      <th>Country</th>\n",
       "      <th>Apple HQ ID</th>\n",
       "      <th>Partner Name</th>\n",
       "      <th>Reporting Type</th>\n",
       "      <th>Raised by</th>\n",
       "      <th>Partner Contact</th>\n",
       "      <th>ST Capture Owner</th>\n",
       "      <th>Issues</th>\n",
       "      <th>Weeks impacted</th>\n",
       "      <th>Action required</th>\n",
       "      <th>Submission Type</th>\n",
       "      <th>Accepted in GDV (date)</th>\n",
       "      <th>Status with STC</th>\n",
       "      <th>Status with TARS</th>\n",
       "      <th>Checked in Ent Dashboard</th>\n",
       "      <th>Comments</th>\n",
       "      <th>TARS Impact</th>\n",
       "    </tr>\n",
       "  </thead>\n",
       "  <tbody>\n",
       "    <tr>\n",
       "      <th>37</th>\n",
       "      <td>26/03/2021</td>\n",
       "      <td>CQ Impact</td>\n",
       "      <td>CH</td>\n",
       "      <td>52671</td>\n",
       "      <td>Art Computer</td>\n",
       "      <td>End Cus Type &amp; Name</td>\n",
       "      <td>Luca</td>\n",
       "      <td>NaN</td>\n",
       "      <td>Luc</td>\n",
       "      <td>W11 resubmission</td>\n",
       "      <td>[FY21W24]</td>\n",
       "      <td>W11 file received and accepted</td>\n",
       "      <td>Resubmission</td>\n",
       "      <td>25/03/2021</td>\n",
       "      <td>Closed</td>\n",
       "      <td>Open</td>\n",
       "      <td>NaN</td>\n",
       "      <td>files replaced on 25/03</td>\n",
       "      <td>Ciara Murphy</td>\n",
       "    </tr>\n",
       "    <tr>\n",
       "      <th>39</th>\n",
       "      <td>2021-01-04 00:00:00</td>\n",
       "      <td>CQ Impact</td>\n",
       "      <td>AT</td>\n",
       "      <td>1630825</td>\n",
       "      <td>ACP HOLDING AT</td>\n",
       "      <td>End Cus Type &amp; Name</td>\n",
       "      <td>Luca</td>\n",
       "      <td>NaN</td>\n",
       "      <td>Luca</td>\n",
       "      <td>Resubmission full quarter</td>\n",
       "      <td>[FY21W14, FY21W15, FY21W16, FY21W17, FY21W18, ...</td>\n",
       "      <td>Files received and accepted</td>\n",
       "      <td>Resubmission</td>\n",
       "      <td>2021-01-04 00:00:00</td>\n",
       "      <td>Closed</td>\n",
       "      <td>Open</td>\n",
       "      <td>NaN</td>\n",
       "      <td>NaN</td>\n",
       "      <td>Emmet Healy</td>\n",
       "    </tr>\n",
       "    <tr>\n",
       "      <th>40</th>\n",
       "      <td>2021-01-04 00:00:00</td>\n",
       "      <td>CQ Impact</td>\n",
       "      <td>UK</td>\n",
       "      <td>387794</td>\n",
       "      <td>XMA</td>\n",
       "      <td>End Cus Type &amp; Name</td>\n",
       "      <td>Melia</td>\n",
       "      <td>NaN</td>\n",
       "      <td>Melia</td>\n",
       "      <td>Duplication in previous data</td>\n",
       "      <td>[FY21W18]</td>\n",
       "      <td>Files received and accepted</td>\n",
       "      <td>Resubmission</td>\n",
       "      <td>2021-01-04 00:00:00</td>\n",
       "      <td>Closed</td>\n",
       "      <td>Open</td>\n",
       "      <td>NaN</td>\n",
       "      <td>Files replaced 01/04/2021</td>\n",
       "      <td>Neil Kelly</td>\n",
       "    </tr>\n",
       "  </tbody>\n",
       "</table>\n",
       "</div>"
      ],
      "text/plain": [
       "           Date entered Issue Type Country  Apple HQ ID    Partner Name  \\\n",
       "37           26/03/2021  CQ Impact      CH        52671    Art Computer   \n",
       "39  2021-01-04 00:00:00  CQ Impact      AT      1630825  ACP HOLDING AT   \n",
       "40  2021-01-04 00:00:00  CQ Impact      UK       387794             XMA   \n",
       "\n",
       "         Reporting Type Raised by  Partner Contact ST Capture Owner  \\\n",
       "37  End Cus Type & Name      Luca              NaN              Luc   \n",
       "39  End Cus Type & Name      Luca              NaN             Luca   \n",
       "40  End Cus Type & Name     Melia              NaN            Melia   \n",
       "\n",
       "                          Issues  \\\n",
       "37              W11 resubmission   \n",
       "39     Resubmission full quarter   \n",
       "40  Duplication in previous data   \n",
       "\n",
       "                                       Weeks impacted  \\\n",
       "37                                          [FY21W24]   \n",
       "39  [FY21W14, FY21W15, FY21W16, FY21W17, FY21W18, ...   \n",
       "40                                          [FY21W18]   \n",
       "\n",
       "                   Action required Submission Type Accepted in GDV (date)  \\\n",
       "37  W11 file received and accepted    Resubmission             25/03/2021   \n",
       "39     Files received and accepted    Resubmission    2021-01-04 00:00:00   \n",
       "40     Files received and accepted    Resubmission    2021-01-04 00:00:00   \n",
       "\n",
       "   Status with STC Status with TARS  Checked in Ent Dashboard  \\\n",
       "37          Closed             Open                       NaN   \n",
       "39          Closed             Open                       NaN   \n",
       "40          Closed             Open                       NaN   \n",
       "\n",
       "                     Comments   TARS Impact  \n",
       "37    files replaced on 25/03  Ciara Murphy  \n",
       "39                        NaN   Emmet Healy  \n",
       "40  Files replaced 01/04/2021    Neil Kelly  "
      ]
     },
     "execution_count": 40,
     "metadata": {},
     "output_type": "execute_result"
    }
   ],
   "source": [
    "quip_df"
   ]
  },
  {
   "cell_type": "code",
   "execution_count": 39,
   "metadata": {},
   "outputs": [],
   "source": [
    "quip_df=quip_df[(quip_df['Status with TARS'] == 'Open')].copy()\n",
    "quip_df['Weeks impacted']=quip_df['Weeks impacted'].astype(str)\n",
    "quip_df['Weeks impacted'] = quip_df.apply(lambda x: x['Weeks impacted'].split(\",\"), axis=1)\n",
    "quip_df['Weeks impacted'] = quip_df.apply(lambda x: rearrage_weeks(x['Weeks impacted'],final_ls=[]), axis=1)\n",
    "\n",
    "for index,week_ls_row in quip_df.iterrows():\n",
    "    quip_df.at[index,'Weeks impacted']= [week_number_9(x) for x in week_ls_row['Weeks impacted']]"
   ]
  },
  {
   "cell_type": "code",
   "execution_count": 30,
   "metadata": {},
   "outputs": [],
   "source": [
    "path=\"/Users/simranpal20gmail.com/Documents/Apple/Data/RELOADS/GBI\"\n",
    "os.chdir(path)\n",
    "GBI_df = pd.read_excel('RELOADs_Q2_21_1.xlsx')\n",
    "# print(GBI_df.head())\n",
    "GBI_df.columns=GBI_df.iloc[0]\n",
    "GBI_df.drop(GBI_df.index[[0]],inplace=True)"
   ]
  },
  {
   "cell_type": "code",
   "execution_count": 31,
   "metadata": {},
   "outputs": [
    {
     "name": "stdout",
     "output_type": "stream",
     "text": [
      "GBI Dimension (892070, 27)\n"
     ]
    }
   ],
   "source": [
    "print('GBI Dimension',GBI_df.shape)\n",
    "# print('GBI Columns',GBI_df.columns)"
   ]
  },
  {
   "cell_type": "code",
   "execution_count": 41,
   "metadata": {},
   "outputs": [],
   "source": [
    "path=\"/Users/simranpal20gmail.com/Documents/Apple/Data/RELOADS\"\n",
    "os.chdir(path)\n",
    "Admin_df = pd.read_excel('TARS Analysts - Q2FY21 Responsibilities & Partner Assignments.xlsx')\n",
    "quip_admin_df = pd.merge(quip_df,Admin_df[['Partner TARS B2B Analyst','Apple HQ ID']],on='Apple HQ ID', how='left')"
   ]
  },
  {
   "cell_type": "code",
   "execution_count": 33,
   "metadata": {},
   "outputs": [],
   "source": [
    "# GBI_df[(GBI_df['Apple HQ ID']=='2638065')]\n",
    "# GBI_df[(GBI_df['Fiscal Week/Year (Name)']=='FY21W05') & (GBI_df['Apple HQ ID']==303923)]"
   ]
  },
  {
   "cell_type": "code",
   "execution_count": 42,
   "metadata": {},
   "outputs": [],
   "source": [
    "path=\"/Users/simranpal20gmail.com/Documents/Apple/Data/RELOADS/Admins\"\n",
    "os.chdir(path)\n",
    "for index, admin_row in quip_admin_df.iterrows():\n",
    "    main_admin_df = pd.DataFrame(columns=GBI_df.columns)\n",
    "    main_admin_df = GBI_df[(GBI_df['Fiscal Week/Year (Name)'].isin(admin_row['Weeks impacted'])) & (GBI_df['Apple HQ ID']==str(admin_row['Apple HQ ID']))]\n",
    "    week_nums='-'.join(['W'+x[-2:] for x in admin_row['Weeks impacted']])\n",
    "    excel_string=admin_row['Partner TARS B2B Analyst'].split(' ')[0]+' '+str(admin_row['Apple HQ ID'])+' '+week_nums+'.xlsx'\n",
    "    w_write = pd.ExcelWriter(excel_string)\n",
    "    main_admin_df.to_excel(w_write,index=False)\n",
    "    w_write.save()"
   ]
  },
  {
   "cell_type": "code",
   "execution_count": null,
   "metadata": {},
   "outputs": [],
   "source": []
  },
  {
   "cell_type": "code",
   "execution_count": null,
   "metadata": {},
   "outputs": [],
   "source": []
  }
 ],
 "metadata": {
  "kernelspec": {
   "display_name": "Python 3",
   "language": "python",
   "name": "python3"
  },
  "language_info": {
   "codemirror_mode": {
    "name": "ipython",
    "version": 3
   },
   "file_extension": ".py",
   "mimetype": "text/x-python",
   "name": "python",
   "nbconvert_exporter": "python",
   "pygments_lexer": "ipython3",
   "version": "3.8.5"
  }
 },
 "nbformat": 4,
 "nbformat_minor": 4
}
