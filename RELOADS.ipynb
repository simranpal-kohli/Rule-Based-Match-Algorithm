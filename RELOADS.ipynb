{
 "cells": [
  {
   "cell_type": "code",
   "execution_count": 49,
   "metadata": {},
   "outputs": [],
   "source": [
    "import os\n",
    "import pandas as pd\n",
    "import re\n",
    "import numpy as np\n",
    "import glob\n",
    "from stop_words import get_stop_words\n",
    "from num2words import num2words "
   ]
  },
  {
   "cell_type": "code",
   "execution_count": 50,
   "metadata": {},
   "outputs": [],
   "source": [
    "path=\"/Users/simranpal20gmail.com/Documents/Apple/Data/RELOADS/quip\"\n",
    "os.chdir(path)\n",
    "# quip_file = os.listdir(path)\n",
    "# quip_file=quip_file[1]\n",
    "# quip_file=[f for f in os.listdir(path) if not f.startswith('.')]\n",
    "# quip_df = pd.read_excel(quip_file[1])\n",
    "quip_df = pd.read_excel('Q1_21.xlsx')"
   ]
  },
  {
   "cell_type": "code",
   "execution_count": 51,
   "metadata": {},
   "outputs": [],
   "source": [
    "string_val_9='FY21W0'\n",
    "string_val_above9='FY21W'\n",
    "def week_number_9(no):\n",
    "    if(int(no) <= 9):\n",
    "        return (string_val_9 + no)\n",
    "    else:\n",
    "        return (string_val_above9 + no)"
   ]
  },
  {
   "cell_type": "code",
   "execution_count": 52,
   "metadata": {},
   "outputs": [],
   "source": [
    "quip_df=quip_df[(quip_df['Status with TARS'] == 'Open')].copy()\n",
    "quip_df['Weeks impacted']=quip_df['Weeks impacted'].astype(str)\n",
    "quip_df['Weeks impacted'] = quip_df.apply(lambda x: x['Weeks impacted'].split(\",\"), axis=1)\n",
    "\n",
    "# for index,week_ls in enumerate(quip_df['Weeks impacted']):\n",
    "#     quip_df['Weeks impacted'].iloc[index] = [week_number_9(x) for x in week_ls]\n",
    "for index,week_ls_row in quip_df.iterrows():\n",
    "    quip_df.at[index,'Weeks impacted']= [week_number_9(x) for x in week_ls_row['Weeks impacted']]"
   ]
  },
  {
   "cell_type": "code",
   "execution_count": 53,
   "metadata": {},
   "outputs": [],
   "source": [
    "path=\"/Users/simranpal20gmail.com/Documents/Apple/Data/RELOADS/GBI\"\n",
    "os.chdir(path)\n",
    "GBI_df = pd.read_excel('Reloads_Q1_21.xlsx')\n",
    "# print(GBI_df.head())\n",
    "GBI_df.columns=GBI_df.iloc[0]\n",
    "GBI_df.drop(GBI_df.index[[0]],inplace=True)"
   ]
  },
  {
   "cell_type": "code",
   "execution_count": 54,
   "metadata": {},
   "outputs": [
    {
     "name": "stdout",
     "output_type": "stream",
     "text": [
      "GBI Dimension (877015, 27)\n"
     ]
    }
   ],
   "source": [
    "print('GBI Dimension',GBI_df.shape)\n",
    "# print('GBI Columns',GBI_df.columns)"
   ]
  },
  {
   "cell_type": "code",
   "execution_count": 55,
   "metadata": {},
   "outputs": [],
   "source": [
    "path=\"/Users/simranpal20gmail.com/Documents/Apple/Data/RELOADS\"\n",
    "os.chdir(path)\n",
    "Admin_df = pd.read_excel('TARS Analysts - Q2FY21 Responsibilities & Partner Assignments.xlsx')\n",
    "quip_admin_df = pd.merge(quip_df,Admin_df[['Partner TARS B2B Analyst','Apple HQ ID']],on='Apple HQ ID', how='left')"
   ]
  },
  {
   "cell_type": "code",
   "execution_count": 56,
   "metadata": {},
   "outputs": [],
   "source": [
    "# GBI_df[(GBI_df['Apple HQ ID']=='2638065')]\n",
    "# GBI_df[(GBI_df['Fiscal Week/Year (Name)']=='FY21W05') & (GBI_df['Apple HQ ID']==303923)]"
   ]
  },
  {
   "cell_type": "code",
   "execution_count": 57,
   "metadata": {},
   "outputs": [],
   "source": [
    "path=\"/Users/simranpal20gmail.com/Documents/Apple/Data/RELOADS/Admins\"\n",
    "os.chdir(path)\n",
    "for index, admin_row in quip_admin_df.iterrows():\n",
    "    main_admin_df = pd.DataFrame(columns=GBI_df.columns)\n",
    "    main_admin_df = GBI_df[(GBI_df['Fiscal Week/Year (Name)'].isin(admin_row['Weeks impacted'])) & (GBI_df['Apple HQ ID']==str(admin_row['Apple HQ ID']))]\n",
    "    week_nums='-'.join(['W'+x[-2:] for x in admin_row['Weeks impacted']])\n",
    "    excel_string=admin_row['Partner TARS B2B Analyst'].split(' ')[0]+' '+str(admin_row['Apple HQ ID'])+' '+week_nums+'.xlsx'\n",
    "    w_write = pd.ExcelWriter(excel_string)\n",
    "    main_admin_df.to_excel(w_write,index=False)\n",
    "    w_write.save()"
   ]
  }
 ],
 "metadata": {
  "kernelspec": {
   "display_name": "Python 3",
   "language": "python",
   "name": "python3"
  },
  "language_info": {
   "codemirror_mode": {
    "name": "ipython",
    "version": 3
   },
   "file_extension": ".py",
   "mimetype": "text/x-python",
   "name": "python",
   "nbconvert_exporter": "python",
   "pygments_lexer": "ipython3",
   "version": "3.8.5"
  }
 },
 "nbformat": 4,
 "nbformat_minor": 4
}
