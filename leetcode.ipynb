{
 "cells": [
  {
   "cell_type": "code",
   "execution_count": 5,
   "metadata": {},
   "outputs": [],
   "source": [
    "# a = list(chars)\n",
    "# b = list(words[0])\n",
    "\n",
    "# c = Counter(a)\n",
    "# diff=c.subtract(Counter(b))\n",
    "# print(list(diff.elements()))\n",
    "from collections import Counter\n",
    "import numpy as np"
   ]
  },
  {
   "cell_type": "code",
   "execution_count": 28,
   "metadata": {},
   "outputs": [
    {
     "name": "stdout",
     "output_type": "stream",
     "text": [
      "['w', 'e', 'l', 'l', 'd', 'o', 'n', 'e', 'h', 'o', 'n', 'e', 'y', 'r']\n",
      "['w', 'o', 'r', 'l', 'd']\n",
      "[]\n"
     ]
    }
   ],
   "source": [
    "a = list(chars)\n",
    "b = list(words[1])\n",
    "c1 = Counter(a)\n",
    "c2 = Counter(b)\n",
    "print(a)\n",
    "print(b)\n",
    "diff = c2-c1\n",
    "print(list(diff.elements()))"
   ]
  },
  {
   "cell_type": "code",
   "execution_count": 1,
   "metadata": {},
   "outputs": [],
   "source": [
    "words = [\"cat\",\"bt\",\"hat\",\"tree\"]\n",
    "chars = \"atach\"\n",
    "chars_ls=list(chars)"
   ]
  },
  {
   "cell_type": "code",
   "execution_count": 30,
   "metadata": {},
   "outputs": [],
   "source": [
    "def count_word(words,char_ls=list(chars),sum_words=0):\n",
    "    for i, word in enumerate(words):\n",
    "        c1 = Counter(char_ls)\n",
    "        c2 = Counter(list(word))\n",
    "        diff = c2-c1\n",
    "        if len(list(diff.elements())) == 0:\n",
    "               sum_words=len(list(word))+sum_words\n",
    "    return sum_words"
   ]
  },
  {
   "cell_type": "code",
   "execution_count": 33,
   "metadata": {},
   "outputs": [
    {
     "data": {
      "text/plain": [
       "6"
      ]
     },
     "execution_count": 33,
     "metadata": {},
     "output_type": "execute_result"
    }
   ],
   "source": [
    "count_word(words, chars)"
   ]
  },
  {
   "cell_type": "code",
   "execution_count": 32,
   "metadata": {},
   "outputs": [],
   "source": [
    "words = [\"cat\",\"bt\",\"hat\",\"tree\"]\n",
    "chars = \"atach\""
   ]
  },
  {
   "cell_type": "code",
   "execution_count": 10,
   "metadata": {},
   "outputs": [],
   "source": [
    "words = [\"hello\",\"world\",\"leetcode\"]\n",
    "chars = \"welldonehoneyr\""
   ]
  },
  {
   "cell_type": "code",
   "execution_count": 3,
   "metadata": {},
   "outputs": [],
   "source": [
    "nums = [3,1,4,1,5]\n",
    "k = 2"
   ]
  },
  {
   "cell_type": "code",
   "execution_count": 4,
   "metadata": {},
   "outputs": [],
   "source": [
    "nums_set=set(nums)"
   ]
  },
  {
   "cell_type": "code",
   "execution_count": 7,
   "metadata": {},
   "outputs": [],
   "source": [
    "v = np.diff(nums)"
   ]
  },
  {
   "cell_type": "code",
   "execution_count": 16,
   "metadata": {},
   "outputs": [],
   "source": [
    "a = [1,4,2,6]\n",
    "new_dict = {(i,j):abs(i-j) for i in a for j in a if i != j}"
   ]
  },
  {
   "cell_type": "code",
   "execution_count": 26,
   "metadata": {},
   "outputs": [
    {
     "name": "stdout",
     "output_type": "stream",
     "text": [
      "{(0, 0): 3, (1, 1): 1, (2, 2): 4, (3, 3): 1, (4, 4): 5}\n"
     ]
    }
   ],
   "source": [
    "a = [3,1,4,1,5]\n",
    "\n",
    "a_dict={(key,key): value for (key, value) in enumerate(a)}\n",
    "print(a_dict)"
   ]
  },
  {
   "cell_type": "code",
   "execution_count": 36,
   "metadata": {},
   "outputs": [
    {
     "data": {
      "text/plain": [
       "{(1, 2): 1,\n",
       " (1, 4): 3,\n",
       " (1, 3): 2,\n",
       " (1, 0): 1,\n",
       " (1, 9): 8,\n",
       " (2, 4): 2,\n",
       " (2, 3): 1,\n",
       " (2, 0): 2,\n",
       " (2, 9): 7,\n",
       " (4, 3): 1,\n",
       " (4, 0): 4,\n",
       " (4, 9): 5,\n",
       " (4, 2): 2,\n",
       " (3, 0): 3,\n",
       " (3, 9): 6,\n",
       " (3, 2): 1,\n",
       " (0, 9): 9,\n",
       " (0, 2): 2,\n",
       " (0, 3): 3,\n",
       " (9, 2): 7,\n",
       " (9, 3): 6}"
      ]
     },
     "execution_count": 36,
     "metadata": {},
     "output_type": "execute_result"
    }
   ],
   "source": [
    "a=[1,2,4,4,3,3,0,9,2,3]\n",
    "new_dict = {(i,j):abs(i-j) for i_indx,i in enumerate(a) for j_indx,j in enumerate(a) if i != j and i_indx<j_indx}\n",
    "new_dict"
   ]
  },
  {
   "cell_type": "code",
   "execution_count": 54,
   "metadata": {},
   "outputs": [
    {
     "name": "stdout",
     "output_type": "stream",
     "text": [
      "{(1, 2): 1, (1, 4): 3, (1, 3): 2, (0, 1): 1, (1, 9): 8, (2, 4): 2, (2, 3): 1, (0, 2): 2, (2, 9): 7, (3, 4): 1, (0, 4): 4, (4, 9): 5, (0, 3): 3, (3, 9): 6, (0, 9): 9}\n"
     ]
    }
   ],
   "source": [
    "# sorted(new_dict)\n",
    "sorted_dict={}\n",
    "for k, v in new_dict.items():\n",
    "    sorted_dict[tuple(sorted(k))]=v\n",
    "print(sorted_dict)"
   ]
  },
  {
   "cell_type": "code",
   "execution_count": 48,
   "metadata": {},
   "outputs": [
    {
     "data": {
      "text/plain": [
       "{}"
      ]
     },
     "execution_count": 48,
     "metadata": {},
     "output_type": "execute_result"
    }
   ],
   "source": [
    "sorted_dict"
   ]
  },
  {
   "cell_type": "code",
   "execution_count": 41,
   "metadata": {},
   "outputs": [
    {
     "name": "stdout",
     "output_type": "stream",
     "text": [
      "[1, 4]\n",
      "[0, 3]\n",
      "[0, 3]\n",
      "3\n"
     ]
    }
   ],
   "source": [
    "cnt=0\n",
    "sorted_dict={}\n",
    "for k, v in new_dict.items():\n",
    "    if v == 3:\n",
    "        print(sorted(k))\n",
    "        cnt=cnt+1\n",
    "print(cnt)"
   ]
  },
  {
   "cell_type": "code",
   "execution_count": null,
   "metadata": {},
   "outputs": [],
   "source": [
    "class Solution:\n",
    "    def findPairs(self, nums: List[int], k: int) -> int:\n",
    "        cnt=0\n",
    "        new_dict = {(i,j):abs(i-j) for i_indx,i in enumerate(nums) for j_indx,j in enumerate(nums)\n",
    "                    if i_indx<j_indx}\n",
    "        for key, v in new_dict.items():\n",
    "            if v == k:\n",
    "                cnt=cnt+1\n",
    "        return cnt"
   ]
  },
  {
   "cell_type": "code",
   "execution_count": 56,
   "metadata": {},
   "outputs": [
    {
     "name": "stdout",
     "output_type": "stream",
     "text": [
      "[0, 1, 2, 2, 3, 3, 3, 4, 4, 9]\n"
     ]
    }
   ],
   "source": [
    "a=[1,2,4,4,3,3,0,9,2,3]\n",
    "a.sort()\n",
    "print(a)"
   ]
  },
  {
   "cell_type": "code",
   "execution_count": 66,
   "metadata": {},
   "outputs": [
    {
     "data": {
      "text/plain": [
       "3.4285714285714284"
      ]
     },
     "execution_count": 66,
     "metadata": {},
     "output_type": "execute_result"
    }
   ],
   "source": [
    "n_num = [1, 2, 3, 4, 5, 5,4]\n",
    "sum(n_num)/len(n_num)"
   ]
  },
  {
   "cell_type": "code",
   "execution_count": 59,
   "metadata": {},
   "outputs": [
    {
     "name": "stdout",
     "output_type": "stream",
     "text": [
      "3.5\n"
     ]
    }
   ],
   "source": [
    "num_len=len(n_num)\n",
    "if num_len%2==0:\n",
    "    med1=n_num[num_len//2]\n",
    "    med2=n_num[num_len//2-1]\n",
    "    med=(med1+med2)/2\n",
    "else:\n",
    "    med=n_num[num_len//2]\n",
    "print(med)"
   ]
  },
  {
   "cell_type": "code",
   "execution_count": 67,
   "metadata": {},
   "outputs": [
    {
     "name": "stdout",
     "output_type": "stream",
     "text": [
      "Counter({4: 2, 5: 2, 1: 1, 2: 1, 3: 1})\n",
      "{1: 1, 2: 1, 3: 1, 4: 2, 5: 2}\n"
     ]
    }
   ],
   "source": [
    "from collections import Counter\n",
    "data = Counter(n_num) \n",
    "print(data)\n",
    "get_mode = dict(data)\n",
    "print(get_mode)"
   ]
  },
  {
   "cell_type": "code",
   "execution_count": 213,
   "metadata": {},
   "outputs": [],
   "source": [
    "mode=[k for k,v in get_mode.items() if v ==max(data.values())]"
   ]
  },
  {
   "cell_type": "code",
   "execution_count": 210,
   "metadata": {},
   "outputs": [],
   "source": [
    "from collections import Counter\n",
    "dict_numbers=dict(Counter(n_num))\n",
    "# [k for k,v in dict_numbers.items() if ]"
   ]
  },
  {
   "cell_type": "code",
   "execution_count": 212,
   "metadata": {},
   "outputs": [
    {
     "data": {
      "text/plain": [
       "2"
      ]
     },
     "execution_count": 212,
     "metadata": {},
     "output_type": "execute_result"
    }
   ],
   "source": [
    "max(dict_numbers.values())"
   ]
  },
  {
   "cell_type": "code",
   "execution_count": 214,
   "metadata": {},
   "outputs": [
    {
     "data": {
      "text/plain": [
       "'4, 5'"
      ]
     },
     "execution_count": 214,
     "metadata": {},
     "output_type": "execute_result"
    }
   ],
   "source": [
    "', '.join(map(str, mode))"
   ]
  },
  {
   "cell_type": "code",
   "execution_count": 73,
   "metadata": {},
   "outputs": [
    {
     "data": {
      "text/plain": [
       "4"
      ]
     },
     "execution_count": 73,
     "metadata": {},
     "output_type": "execute_result"
    }
   ],
   "source": [
    "import statistics\n",
    "round(statistics.median(n_num),2)"
   ]
  },
  {
   "cell_type": "code",
   "execution_count": 215,
   "metadata": {},
   "outputs": [
    {
     "data": {
      "text/plain": [
       "3.4285714285714284"
      ]
     },
     "execution_count": 215,
     "metadata": {},
     "output_type": "execute_result"
    }
   ],
   "source": [
    "np.mean(n_num)"
   ]
  },
  {
   "cell_type": "code",
   "execution_count": 216,
   "metadata": {},
   "outputs": [
    {
     "data": {
      "text/plain": [
       "4.0"
      ]
     },
     "execution_count": 216,
     "metadata": {},
     "output_type": "execute_result"
    }
   ],
   "source": [
    "np.median(n_num)"
   ]
  },
  {
   "cell_type": "code",
   "execution_count": 76,
   "metadata": {},
   "outputs": [],
   "source": [
    "digits = [8,6,7,1,0]"
   ]
  },
  {
   "cell_type": "code",
   "execution_count": 84,
   "metadata": {},
   "outputs": [
    {
     "data": {
      "text/plain": [
       "'[8, 7, 6, 1, 0]'"
      ]
     },
     "execution_count": 84,
     "metadata": {},
     "output_type": "execute_result"
    }
   ],
   "source": [
    "digi_ls=sorted(digits,reverse=True)\n",
    "\"\".join(str(digi_ls))"
   ]
  },
  {
   "cell_type": "code",
   "execution_count": 85,
   "metadata": {},
   "outputs": [
    {
     "name": "stdout",
     "output_type": "stream",
     "text": [
      "87610\n"
     ]
    }
   ],
   "source": [
    "strings = [str(integer) for integer in digi_ls]\n",
    "a_string = \"\".join(strings)\n",
    "an_integer = int(a_string)\n",
    "print(an_integer)"
   ]
  },
  {
   "cell_type": "code",
   "execution_count": 219,
   "metadata": {},
   "outputs": [
    {
     "name": "stdout",
     "output_type": "stream",
     "text": [
      "B\n"
     ]
    }
   ],
   "source": [
    "num=3\n",
    "if not num%2:\n",
    "    print('A')\n",
    "elif not num%3:\n",
    "    print('B')\n",
    "elif not num%5:\n",
    "    print('c')"
   ]
  },
  {
   "cell_type": "code",
   "execution_count": 96,
   "metadata": {},
   "outputs": [
    {
     "name": "stdout",
     "output_type": "stream",
     "text": [
      "multiple of 5\n"
     ]
    }
   ],
   "source": [
    "def ismultiple(n):\n",
    "    while n>0:\n",
    "        n=n-5\n",
    "    if n==0:\n",
    "        print(\"multiple of 5\")\n",
    "    else:\n",
    "        print(\"not a multiple of 5\")\n",
    "ismultiple(20)"
   ]
  },
  {
   "cell_type": "code",
   "execution_count": 97,
   "metadata": {},
   "outputs": [
    {
     "name": "stdout",
     "output_type": "stream",
     "text": [
      "0\n",
      "RV : \n",
      " <scipy.stats._distn_infrastructure.rv_frozen object at 0x7fc8569ec6d0>\n"
     ]
    }
   ],
   "source": [
    "from scipy.stats import uniform  \n",
    "    \n",
    "numargs = uniform .numargs \n",
    "print(numargs)\n",
    "a, b = 0.2, 0.8\n",
    "rv = uniform (a, b)  \n",
    "    \n",
    "print (\"RV : \\n\", rv) "
   ]
  },
  {
   "cell_type": "code",
   "execution_count": 98,
   "metadata": {},
   "outputs": [
    {
     "name": "stdout",
     "output_type": "stream",
     "text": [
      "Random Variates : \n",
      " [0.67313307 0.82541895 0.85964301 0.56924267 0.24940988 0.71587836\n",
      " 0.94024066 0.65636657 0.82004026 0.66677831]\n",
      "\n",
      "Probability Distribution : \n",
      " [0. 0. 0. 0. 0. 0. 0. 0. 0. 0.]\n"
     ]
    }
   ],
   "source": [
    "import numpy as np  \n",
    "quantile = np.arange (0.01, 1, 0.1)  \n",
    "  \n",
    "# Random Variates  \n",
    "R = uniform .rvs(a, b, size = 10)  \n",
    "print (\"Random Variates : \\n\", R)  \n",
    "  \n",
    "# PDF  \n",
    "x = np.linspace(uniform.ppf(0.01, a, b), uniform.ppf(0.99, a, b), 10) \n",
    "R = uniform.pdf(x, 1, 3) \n",
    "print (\"\\nProbability Distribution : \\n\", R) "
   ]
  },
  {
   "cell_type": "code",
   "execution_count": 99,
   "metadata": {},
   "outputs": [
    {
     "data": {
      "text/plain": [
       "array([0.01, 0.11, 0.21, 0.31, 0.41, 0.51, 0.61, 0.71, 0.81, 0.91])"
      ]
     },
     "execution_count": 99,
     "metadata": {},
     "output_type": "execute_result"
    }
   ],
   "source": [
    "np.arange (0.01, 1, 0.1)"
   ]
  },
  {
   "cell_type": "code",
   "execution_count": 103,
   "metadata": {},
   "outputs": [
    {
     "data": {
      "text/plain": [
       "array([0.21918056, 0.71196446, 0.94976218, 0.62822142, 0.72570539,\n",
       "       0.65725468, 0.77690808, 0.25604522, 0.72219423, 0.31372896])"
      ]
     },
     "execution_count": 103,
     "metadata": {},
     "output_type": "execute_result"
    }
   ],
   "source": [
    "uniform .rvs(a, b, size = 10)"
   ]
  },
  {
   "cell_type": "code",
   "execution_count": 119,
   "metadata": {},
   "outputs": [
    {
     "name": "stdout",
     "output_type": "stream",
     "text": [
      "[ 1.  2.  3.  4.  5.  6.  7.  8.  9. 10.]\n",
      "[1 2 3 4 5 6 7 8 9]\n"
     ]
    }
   ],
   "source": [
    "print(np.linspace(1,10,10))\n",
    "print(np.arange(1,10,1))"
   ]
  },
  {
   "cell_type": "code",
   "execution_count": 121,
   "metadata": {},
   "outputs": [
    {
     "data": {
      "text/plain": [
       "0.20800000000000002"
      ]
     },
     "execution_count": 121,
     "metadata": {},
     "output_type": "execute_result"
    }
   ],
   "source": [
    "uniform.ppf(0.01, a, b)"
   ]
  },
  {
   "cell_type": "code",
   "execution_count": 122,
   "metadata": {},
   "outputs": [
    {
     "data": {
      "text/plain": [
       "array([0.208     , 0.29511111, 0.38222222, 0.46933333, 0.55644444,\n",
       "       0.64355556, 0.73066667, 0.81777778, 0.90488889, 0.992     ])"
      ]
     },
     "execution_count": 122,
     "metadata": {},
     "output_type": "execute_result"
    }
   ],
   "source": [
    "x"
   ]
  },
  {
   "cell_type": "code",
   "execution_count": 124,
   "metadata": {},
   "outputs": [
    {
     "data": {
      "text/plain": [
       "0.0"
      ]
     },
     "execution_count": 124,
     "metadata": {},
     "output_type": "execute_result"
    }
   ],
   "source": [
    "uniform.pdf(0.5, 1, 3)"
   ]
  },
  {
   "cell_type": "code",
   "execution_count": 131,
   "metadata": {},
   "outputs": [],
   "source": [
    "a,b=0,1"
   ]
  },
  {
   "cell_type": "code",
   "execution_count": 130,
   "metadata": {},
   "outputs": [
    {
     "data": {
      "text/plain": [
       "0.7947431995267245"
      ]
     },
     "execution_count": 130,
     "metadata": {},
     "output_type": "execute_result"
    }
   ],
   "source": [
    "(b-a)*np.random.uniform(0,1)+a"
   ]
  },
  {
   "cell_type": "code",
   "execution_count": 138,
   "metadata": {},
   "outputs": [],
   "source": [
    "# for inline plots in jupyter\n",
    "%matplotlib inline\n",
    "# import matplotlib\n",
    "import matplotlib.pyplot as plt\n",
    "# for latex equations\n",
    "from IPython.display import Math, Latex\n",
    "# for displaying images\n",
    "from IPython.core.display import Image"
   ]
  },
  {
   "cell_type": "code",
   "execution_count": 139,
   "metadata": {},
   "outputs": [],
   "source": [
    "# import seaborn\n",
    "import seaborn as sns\n",
    "# settings for seaborn plotting style\n",
    "sns.set(color_codes=True)\n",
    "# settings for seaborn plot sizes\n",
    "sns.set(rc={'figure.figsize':(5,5)})"
   ]
  },
  {
   "cell_type": "code",
   "execution_count": 155,
   "metadata": {},
   "outputs": [
    {
     "data": {
      "text/plain": [
       "array([0.74978714, 0.01090914, 0.4111576 , ..., 0.25122201, 0.98371928,\n",
       "       0.33311215])"
      ]
     },
     "execution_count": 155,
     "metadata": {},
     "output_type": "execute_result"
    }
   ],
   "source": [
    "n = 10000\n",
    "start = 0\n",
    "width = 1\n",
    "data_uniform = uniform.rvs(size=n, loc = start, scale=width)\n",
    "data_uniform"
   ]
  },
  {
   "cell_type": "code",
   "execution_count": 156,
   "metadata": {},
   "outputs": [
    {
     "name": "stderr",
     "output_type": "stream",
     "text": [
      "/Users/simranpal20gmail.com/opt/anaconda3/lib/python3.8/site-packages/seaborn/distributions.py:2551: FutureWarning: `distplot` is a deprecated function and will be removed in a future version. Please adapt your code to use either `displot` (a figure-level function with similar flexibility) or `histplot` (an axes-level function for histograms).\n",
      "  warnings.warn(msg, FutureWarning)\n"
     ]
    },
    {
     "data": {
      "text/plain": [
       "[Text(0.5, 0, 'Uniform Distribution '), Text(0, 0.5, 'Frequency')]"
      ]
     },
     "execution_count": 156,
     "metadata": {},
     "output_type": "execute_result"
    },
    {
     "data": {
      "image/png": "[encoded data removed]",
      "text/plain": [
       "<Figure size 360x360 with 1 Axes>"
      ]
     },
     "metadata": {},
     "output_type": "display_data"
    }
   ],
   "source": [
    "ax = sns.distplot(data_uniform,\n",
    "                  bins=5,\n",
    "                  kde=True,\n",
    "                  color='skyblue',\n",
    "                  hist_kws={\"linewidth\": 15,'alpha':1})\n",
    "ax.set(xlabel='Uniform Distribution ', ylabel='Frequency')"
   ]
  },
  {
   "cell_type": "code",
   "execution_count": 145,
   "metadata": {},
   "outputs": [
    {
     "data": {
      "text/plain": [
       "array([ 0.09271781, -1.131127  ,  0.55995581,  0.80990631, -0.29183057,\n",
       "        0.92092891,  0.53893056, -1.2602588 , -0.54288792,  0.6155832 ])"
      ]
     },
     "execution_count": 145,
     "metadata": {},
     "output_type": "execute_result"
    }
   ],
   "source": [
    "from scipy.stats import norm\n",
    "# generate random numbers from N(0,1)\n",
    "data_normal = norm.rvs(size=10,loc=0,scale=1)\n",
    "data_normal"
   ]
  },
  {
   "cell_type": "code",
   "execution_count": 146,
   "metadata": {},
   "outputs": [
    {
     "name": "stderr",
     "output_type": "stream",
     "text": [
      "/Users/simranpal20gmail.com/opt/anaconda3/lib/python3.8/site-packages/seaborn/distributions.py:2551: FutureWarning: `distplot` is a deprecated function and will be removed in a future version. Please adapt your code to use either `displot` (a figure-level function with similar flexibility) or `histplot` (an axes-level function for histograms).\n",
      "  warnings.warn(msg, FutureWarning)\n"
     ]
    },
    {
     "data": {
      "text/plain": [
       "[Text(0.5, 0, 'Normal Distribution'), Text(0, 0.5, 'Frequency')]"
      ]
     },
     "execution_count": 146,
     "metadata": {},
     "output_type": "execute_result"
    },
    {
     "data": {
      "image/png": "[encoded data removed]",
      "text/plain": [
       "<Figure size 360x360 with 1 Axes>"
      ]
     },
     "metadata": {},
     "output_type": "display_data"
    }
   ],
   "source": [
    "ax = sns.distplot(data_normal,\n",
    "                  bins=100,\n",
    "                  kde=True,\n",
    "                  color='skyblue',\n",
    "                  hist_kws={\"linewidth\": 15,'alpha':1})\n",
    "ax.set(xlabel='Normal Distribution', ylabel='Frequency')"
   ]
  },
  {
   "cell_type": "code",
   "execution_count": 171,
   "metadata": {},
   "outputs": [
    {
     "name": "stdout",
     "output_type": "stream",
     "text": [
      "Mean: 0.5 \n",
      "Variance: 0.08333333333333333\n",
      "0.5\n"
     ]
    }
   ],
   "source": [
    "mean, var = uniform.stats(loc=0, scale=1,moments='mv')\n",
    "print(\"Mean:\",mean,\"\\nVariance:\",var)\n",
    "print(uniform.mean(loc=0, scale=1))"
   ]
  },
  {
   "cell_type": "code",
   "execution_count": 169,
   "metadata": {},
   "outputs": [
    {
     "data": {
      "text/plain": [
       "array([1., 1., 1., 1., 1., 1., 1., 1., 1., 1.])"
      ]
     },
     "execution_count": 169,
     "metadata": {},
     "output_type": "execute_result"
    }
   ],
   "source": [
    "uniform.pdf(x, loc=0, scale=1)"
   ]
  },
  {
   "cell_type": "code",
   "execution_count": 175,
   "metadata": {},
   "outputs": [
    {
     "name": "stderr",
     "output_type": "stream",
     "text": [
      "/Users/simranpal20gmail.com/opt/anaconda3/lib/python3.8/site-packages/seaborn/distributions.py:2551: FutureWarning: `distplot` is a deprecated function and will be removed in a future version. Please adapt your code to use either `displot` (a figure-level function with similar flexibility) or `histplot` (an axes-level function for histograms).\n",
      "  warnings.warn(msg, FutureWarning)\n"
     ]
    },
    {
     "data": {
      "text/plain": [
       "[Text(0.5, 0, 'Uniform Distribution'), Text(0, 0.5, 'Frequency')]"
      ]
     },
     "execution_count": 175,
     "metadata": {},
     "output_type": "execute_result"
    },
    {
     "data": {
      "image/png": "[encoded data removed]",
      "text/plain": [
       "<Figure size 360x360 with 1 Axes>"
      ]
     },
     "metadata": {},
     "output_type": "display_data"
    }
   ],
   "source": [
    "ax=sns.distplot(uniform.rvs(size=10000,loc=0,scale=1),bins=1000,color='skyblue')\n",
    "ax.set(xlabel='Uniform Distribution',ylabel='Frequency')"
   ]
  },
  {
   "cell_type": "code",
   "execution_count": 180,
   "metadata": {},
   "outputs": [
    {
     "name": "stderr",
     "output_type": "stream",
     "text": [
      "/Users/simranpal20gmail.com/opt/anaconda3/lib/python3.8/site-packages/seaborn/distributions.py:2551: FutureWarning: `distplot` is a deprecated function and will be removed in a future version. Please adapt your code to use either `displot` (a figure-level function with similar flexibility) or `histplot` (an axes-level function for histograms).\n",
      "  warnings.warn(msg, FutureWarning)\n"
     ]
    },
    {
     "data": {
      "text/plain": [
       "[Text(0.5, 0, 'Normal Distribution'), Text(0, 0.5, 'Frequency')]"
      ]
     },
     "execution_count": 180,
     "metadata": {},
     "output_type": "execute_result"
    },
    {
     "data": {
      "image/png": "[encoded data removed]",
      "text/plain": [
       "<Figure size 360x360 with 1 Axes>"
      ]
     },
     "metadata": {},
     "output_type": "display_data"
    }
   ],
   "source": [
    "from scipy.stats import norm\n",
    "norm.mean(loc=0,scale=1)\n",
    "norm.stats(loc=0,scale=1,moments='mv')\n",
    "ax=sns.distplot(norm.rvs(size=10000,loc=0,scale=1),bins=1000,color='skyblue')\n",
    "ax.set(xlabel='Normal Distribution',ylabel='Frequency')"
   ]
  },
  {
   "cell_type": "code",
   "execution_count": 183,
   "metadata": {},
   "outputs": [
    {
     "data": {
      "text/plain": [
       "array([0.29459297, 0.45227791, 0.58947253, 0.53409438, 0.30454212,\n",
       "       0.46174593, 0.99396168, 0.11234215, 0.87402786, 0.27069248,\n",
       "       0.77342737, 0.40609939, 0.66219891, 0.72276218, 0.72225619,\n",
       "       0.69451154, 0.27099338, 0.49800479, 0.03364889, 0.55001626,\n",
       "       0.18109013, 0.17608873, 0.9098143 , 0.17288871, 0.28926491,\n",
       "       0.50614569, 0.03845016, 0.22982152, 0.08170188, 0.44952079,\n",
       "       0.05425864, 0.57643251, 0.46866561, 0.78909787, 0.4847701 ,\n",
       "       0.01435061, 0.2259803 , 0.84068499, 0.09684436, 0.57250694,\n",
       "       0.09452639, 0.26110698, 0.7738291 , 0.25444547, 0.96398897,\n",
       "       0.82137245, 0.48952165, 0.23946365, 0.85522929, 0.98826404,\n",
       "       0.35097754, 0.57431238, 0.67417078, 0.90631685, 0.66721748,\n",
       "       0.00544981, 0.9058252 , 0.00280756, 0.26988943, 0.95862697,\n",
       "       0.27704725, 0.59428244, 0.68696075, 0.74534053, 0.58285855,\n",
       "       0.0501161 , 0.30734505, 0.37269681, 0.01852389, 0.98193035,\n",
       "       0.92797726, 0.90646437, 0.98154969, 0.98765193, 0.58523098,\n",
       "       0.44489331, 0.47795248, 0.67081233, 0.39618293, 0.28226899,\n",
       "       0.69668701, 0.80619799, 0.08257001, 0.76264954, 0.53252447,\n",
       "       0.43795777, 0.56408148, 0.74801129, 0.45200091, 0.87146287,\n",
       "       0.40177418, 0.00249008, 0.62939587, 0.75799877, 0.48144448,\n",
       "       0.50215586, 0.22963868, 0.82778573, 0.61976604, 0.31442223,\n",
       "       0.31546393, 0.21778249, 0.18478452, 0.2226926 , 0.96872063,\n",
       "       0.15687272, 0.85591626, 0.46659625, 0.25308351, 0.39991286,\n",
       "       0.6391905 , 0.15367003, 0.34441693, 0.77605905, 0.87833955,\n",
       "       0.2146074 , 0.39532507, 0.59372045, 0.18030768, 0.69035652,\n",
       "       0.36687141, 0.83093031, 0.63545651, 0.67370538, 0.67414749,\n",
       "       0.38887317, 0.71190129, 0.23903099, 0.92139511, 0.79063868,\n",
       "       0.68135056, 0.73087671, 0.61816777, 0.11079296, 0.22423601,\n",
       "       0.58360015, 0.46570118, 0.94227978, 0.42540853, 0.76749747,\n",
       "       0.12425385, 0.77895286, 0.17366999, 0.27590221, 0.63004148,\n",
       "       0.91828327, 0.71837296, 0.43655676, 0.95738941, 0.29008748,\n",
       "       0.71038608, 0.32724807, 0.40962128, 0.85026343, 0.14279912,\n",
       "       0.85002152, 0.40494097, 0.00741573, 0.65748055, 0.26947379,\n",
       "       0.32964864, 0.68212343, 0.52880424, 0.7792828 , 0.56738055,\n",
       "       0.30907426, 0.53409959, 0.56836543, 0.30064099, 0.30785442,\n",
       "       0.62639089, 0.95540437, 0.02205942, 0.65751714, 0.7183669 ,\n",
       "       0.96344358, 0.53487616, 0.53456787, 0.30813353, 0.71341714,\n",
       "       0.01482043, 0.35800204, 0.61257834, 0.45516221, 0.98717541,\n",
       "       0.0354591 , 0.83333236, 0.03539502, 0.10302458, 0.08313824,\n",
       "       0.28542005, 0.29992154, 0.66279873, 0.81455601, 0.76456846,\n",
       "       0.8092042 , 0.91612891, 0.24608764, 0.78860748, 0.43821544,\n",
       "       0.69944192, 0.99597272, 0.35372456, 0.75634599, 0.23859272,\n",
       "       0.31730127, 0.02612552, 0.50381779, 0.31501981, 0.85997978,\n",
       "       0.97601857, 0.65825767, 0.8707942 , 0.03267114, 0.48743609,\n",
       "       0.49645371, 0.54985991, 0.76954153, 0.56411525, 0.70181407,\n",
       "       0.96913442, 0.83678897, 0.41393397, 0.76877999, 0.35015601,\n",
       "       0.53956767, 0.4658164 , 0.53772056, 0.90387986, 0.37120238,\n",
       "       0.88946347, 0.88183186, 0.14119565, 0.50034533, 0.57079917,\n",
       "       0.24005332, 0.43970552, 0.85561208, 0.73782083, 0.13060848,\n",
       "       0.60347652, 0.72858994, 0.0337539 , 0.30213536, 0.05887755,\n",
       "       0.8474919 , 0.46361229, 0.74710735, 0.56229192, 0.44319433,\n",
       "       0.84541134, 0.72504623, 0.72753566, 0.70169828, 0.0791034 ,\n",
       "       0.23744664, 0.53583494, 0.36894045, 0.65726719, 0.58348581,\n",
       "       0.20823026, 0.49834232, 0.12052573, 0.41524835, 0.57249664,\n",
       "       0.43912666, 0.06381639, 0.52090619, 0.66020569, 0.72047233,\n",
       "       0.10065755, 0.36837774, 0.33635845, 0.50074469, 0.57920846,\n",
       "       0.0520876 , 0.69477256, 0.13055355, 0.46352327, 0.09867738,\n",
       "       0.72617987, 0.38061654, 0.12287986, 0.81016377, 0.66954573,\n",
       "       0.48821444, 0.72039746, 0.71789974, 0.47834234, 0.79744438,\n",
       "       0.2738547 , 0.29443306, 0.89812381, 0.37028534, 0.41721335,\n",
       "       0.69940682, 0.49022077, 0.8639068 , 0.3281752 , 0.4886559 ,\n",
       "       0.1440215 , 0.93415576, 0.55686031, 0.71144045, 0.65171942,\n",
       "       0.24393181, 0.27044989, 0.29330439, 0.51252974, 0.75052745,\n",
       "       0.5467687 , 0.50263027, 0.94641185, 0.40293596, 0.76434424,\n",
       "       0.70277077, 0.06097833, 0.0088614 , 0.64442247, 0.56203791,\n",
       "       0.92125482, 0.40691015, 0.23368013, 0.15799938, 0.7690333 ,\n",
       "       0.01634066, 0.98911171, 0.58941113, 0.52479144, 0.77392435,\n",
       "       0.46769878, 0.71515051, 0.02018989, 0.9014129 , 0.05856892,\n",
       "       0.44010975, 0.82994916, 0.20954815, 0.26526457, 0.10169506,\n",
       "       0.21072506, 0.65932292, 0.54525383, 0.8846946 , 0.91497924,\n",
       "       0.32173876, 0.68381975, 0.0424677 , 0.8347711 , 0.61224919,\n",
       "       0.09746048, 0.49355131, 0.59548514, 0.73026082, 0.53200688,\n",
       "       0.24154101, 0.53254249, 0.49997816, 0.29270465, 0.14675824,\n",
       "       0.61619845, 0.21998907, 0.48430855, 0.15518924, 0.49998656,\n",
       "       0.07368114, 0.02857154, 0.93830466, 0.857916  , 0.68134896,\n",
       "       0.26125512, 0.35571287, 0.10654924, 0.79568355, 0.44471742,\n",
       "       0.87682991, 0.40039605, 0.65187925, 0.83587638, 0.80596389,\n",
       "       0.73502447, 0.54581464, 0.1973272 , 0.73973599, 0.79986929,\n",
       "       0.31132115, 0.93370951, 0.63651546, 0.44130196, 0.63405953,\n",
       "       0.56749006, 0.79708743, 0.58285894, 0.71741426, 0.93535981,\n",
       "       0.58860677, 0.57242206, 0.49055237, 0.27648942, 0.87963762,\n",
       "       0.57146657, 0.53698561, 0.32749198, 0.35650533, 0.51436387,\n",
       "       0.6444681 , 0.02067273, 0.25789347, 0.10914812, 0.69638572,\n",
       "       0.90378775, 0.95265738, 0.46564096, 0.04189854, 0.40998368,\n",
       "       0.69450987, 0.62584315, 0.36760953, 0.90170388, 0.00299815,\n",
       "       0.72577619, 0.93300968, 0.38708787, 0.03231253, 0.17302759,\n",
       "       0.51072313, 0.17657407, 0.96493241, 0.07494212, 0.72754028,\n",
       "       0.02593643, 0.7450745 , 0.55629864, 0.67141099, 0.25007604,\n",
       "       0.19954935, 0.4352146 , 0.5195914 , 0.52829574, 0.67288526,\n",
       "       0.97922967, 0.19205137, 0.88147787, 0.46706985, 0.40059231,\n",
       "       0.138091  , 0.41649338, 0.08410488, 0.04085128, 0.48126067,\n",
       "       0.55756236, 0.4466174 , 0.85509672, 0.02280327, 0.06872005,\n",
       "       0.73281212, 0.50220667, 0.74756535, 0.81595855, 0.65482327,\n",
       "       0.53509192, 0.01066993, 0.82991324, 0.90705536, 0.03274337,\n",
       "       0.12795574, 0.66028916, 0.60535652, 0.32750392, 0.54306269,\n",
       "       0.5308128 , 0.61391741, 0.72230302, 0.41215523, 0.11019705,\n",
       "       0.43339489, 0.50026737, 0.06352459, 0.54871995, 0.32543893,\n",
       "       0.26191138, 0.19221681, 0.6786311 , 0.78929067, 0.44677789,\n",
       "       0.12876909, 0.87184909, 0.97496028, 0.59278136, 0.22355456,\n",
       "       0.4207808 , 0.06879809, 0.96796374, 0.86718307, 0.05660037,\n",
       "       0.88257683, 0.67870264, 0.62404645, 0.35135739, 0.26660235,\n",
       "       0.02620647, 0.37914675, 0.35204099, 0.89563943, 0.72372945,\n",
       "       0.70665233, 0.43160968, 0.66656947, 0.45799139, 0.31747778,\n",
       "       0.19152406, 0.15022383, 0.31320056, 0.16976261, 0.21293585,\n",
       "       0.69564104, 0.43923346, 0.27624436, 0.81111407, 0.41169375,\n",
       "       0.25618836, 0.0866717 , 0.52995052, 0.22463419, 0.37454871,\n",
       "       0.26940962, 0.83455271, 0.27903453, 0.43139234, 0.53802208,\n",
       "       0.61258947, 0.1630949 , 0.36005644, 0.20255757, 0.55976433,\n",
       "       0.86740149, 0.93492839, 0.30149089, 0.91406985, 0.75861013,\n",
       "       0.36630002, 0.10102564, 0.47276192, 0.03697691, 0.3908007 ,\n",
       "       0.51284713, 0.59820317, 0.94965198, 0.50726762, 0.75748527,\n",
       "       0.75947336, 0.84990572, 0.70240776, 0.0992035 , 0.3592251 ,\n",
       "       0.70871932, 0.61032427, 0.10149632, 0.26963486, 0.99923999,\n",
       "       0.86355495, 0.54189207, 0.8811827 , 0.59440309, 0.0269158 ,\n",
       "       0.14077659, 0.63775981, 0.15975993, 0.4539677 , 0.97589225,\n",
       "       0.13375123, 0.29475458, 0.82959993, 0.00209996, 0.33649885,\n",
       "       0.99672243, 0.04598749, 0.12062878, 0.27095565, 0.72292265,\n",
       "       0.56611804, 0.4462752 , 0.54895139, 0.87278658, 0.27276499,\n",
       "       0.9814038 , 0.9377676 , 0.79647794, 0.88392971, 0.68819196,\n",
       "       0.16376634, 0.85403973, 0.41197234, 0.22923851, 0.86727752,\n",
       "       0.62809041, 0.89293773, 0.06954184, 0.23203101, 0.54324042,\n",
       "       0.13002791, 0.99879277, 0.528348  , 0.60945195, 0.40692301,\n",
       "       0.12934011, 0.27815029, 0.57805802, 0.34358332, 0.50819575,\n",
       "       0.03681637, 0.54909814, 0.1753524 , 0.57946408, 0.16415276,\n",
       "       0.12394612, 0.94627543, 0.79137799, 0.67665059, 0.73049429,\n",
       "       0.59456294, 0.27142053, 0.6547323 , 0.90793931, 0.39363674,\n",
       "       0.77387096, 0.90680447, 0.57561562, 0.64473228, 0.92396668,\n",
       "       0.82150216, 0.26691997, 0.63979298, 0.18090767, 0.98969295,\n",
       "       0.35773005, 0.46259618, 0.20788226, 0.47498209, 0.17166885,\n",
       "       0.31262444, 0.49526254, 0.48693588, 0.63850206, 0.26770168,\n",
       "       0.18128107, 0.70178816, 0.29384553, 0.12834934, 0.17518904,\n",
       "       0.00286422, 0.56705995, 0.76658005, 0.2955473 , 0.78958425,\n",
       "       0.97293676, 0.25751897, 0.22586504, 0.22229641, 0.60422258,\n",
       "       0.03838412, 0.53176295, 0.89864081, 0.94546645, 0.98884097,\n",
       "       0.43537153, 0.61943196, 0.41179619, 0.10319097, 0.91454129,\n",
       "       0.10256361, 0.60809176, 0.3623957 , 0.49466459, 0.97914709,\n",
       "       0.89404598, 0.0330165 , 0.21801004, 0.25939855, 0.99566096,\n",
       "       0.0994445 , 0.67716859, 0.97506792, 0.94630608, 0.20761587,\n",
       "       0.44000341, 0.97443218, 0.33724323, 0.9660387 , 0.64230773,\n",
       "       0.71728497, 0.50411206, 0.37989674, 0.14303764, 0.18540392,\n",
       "       0.22032323, 0.26491239, 0.27236775, 0.33921203, 0.42401916,\n",
       "       0.23458059, 0.3771015 , 0.44800159, 0.0188607 , 0.20545927,\n",
       "       0.99612198, 0.34542142, 0.30539349, 0.76699592, 0.21803506,\n",
       "       0.10064503, 0.83650289, 0.56149432, 0.617531  , 0.30529233,\n",
       "       0.80693317, 0.3674147 , 0.99895094, 0.10495211, 0.71050644,\n",
       "       0.51008057, 0.16170988, 0.2254355 , 0.83584658, 0.4558406 ,\n",
       "       0.31462023, 0.97633158, 0.8847538 , 0.14455581, 0.94668213,\n",
       "       0.95808651, 0.17475898, 0.26373071, 0.3303168 , 0.02135727,\n",
       "       0.83846071, 0.30001707, 0.41091828, 0.73343156, 0.55850511,\n",
       "       0.850717  , 0.6770602 , 0.54607226, 0.53750357, 0.74592704,\n",
       "       0.87775078, 0.79641295, 0.59208195, 0.82496734, 0.47638709,\n",
       "       0.74082392, 0.48935287, 0.99310331, 0.12299021, 0.6008665 ,\n",
       "       0.45218826, 0.89486842, 0.85089873, 0.21203678, 0.24422955,\n",
       "       0.78194093, 0.18673329, 0.47215889, 0.24274415, 0.88531662,\n",
       "       0.95250162, 0.96435582, 0.03581972, 0.37508153, 0.76791291,\n",
       "       0.57876764, 0.78641693, 0.38266701, 0.6597991 , 0.11353478,\n",
       "       0.33629946, 0.82446434, 0.73463815, 0.9777266 , 0.42486792,\n",
       "       0.06131192, 0.0791088 , 0.87225485, 0.05959891, 0.76179657,\n",
       "       0.98315292, 0.06749218, 0.03019034, 0.68472014, 0.18734527,\n",
       "       0.87385802, 0.2186811 , 0.80040501, 0.27308533, 0.74367549,\n",
       "       0.46117673, 0.13780282, 0.26358208, 0.37491828, 0.71987803,\n",
       "       0.6016013 , 0.83869769, 0.02912996, 0.79908055, 0.34713707,\n",
       "       0.13682315, 0.71166171, 0.34996666, 0.01439368, 0.86961998,\n",
       "       0.02013186, 0.72300081, 0.8463718 , 0.82145218, 0.20513298,\n",
       "       0.80791491, 0.80574819, 0.76387616, 0.72588583, 0.29772546,\n",
       "       0.86248388, 0.50103928, 0.53307053, 0.98362456, 0.51629849,\n",
       "       0.10494081, 0.9206433 , 0.79428126, 0.56423169, 0.41233122,\n",
       "       0.06095667, 0.57392263, 0.34410778, 0.67207515, 0.11098053,\n",
       "       0.19299134, 0.3025591 , 0.05034708, 0.72438707, 0.31709925,\n",
       "       0.16586587, 0.55270773, 0.25151891, 0.98644094, 0.08235339,\n",
       "       0.56663366, 0.14669483, 0.54795911, 0.05607829, 0.48002107,\n",
       "       0.33650414, 0.91738533, 0.63292833, 0.2781751 , 0.62582532,\n",
       "       0.66693605, 0.94685753, 0.33590841, 0.75571852, 0.63088173,\n",
       "       0.53807421, 0.16794427, 0.29774011, 0.24581953, 0.06819625,\n",
       "       0.22949718, 0.59913296, 0.84885892, 0.29228566, 0.26885832,\n",
       "       0.15282553, 0.60220085, 0.35409555, 0.9785686 , 0.49000913,\n",
       "       0.20310367, 0.79043545, 0.47747137, 0.35378068, 0.92719983,\n",
       "       0.71506253, 0.06771985, 0.33082501, 0.45568863, 0.56147884,\n",
       "       0.39897015, 0.67107477, 0.49029146, 0.45698079, 0.92882404,\n",
       "       0.25469008, 0.98309093, 0.19638587, 0.33281142, 0.16200363,\n",
       "       0.53993377, 0.18325117, 0.84463924, 0.44343991, 0.49423416,\n",
       "       0.43875253, 0.61328693, 0.09158497, 0.71309148, 0.54965765,\n",
       "       0.11881339, 0.79438   , 0.71108909, 0.55313037, 0.40244955,\n",
       "       0.59757813, 0.87948572, 0.91901052, 0.39095996, 0.03461241,\n",
       "       0.49060602, 0.70061761, 0.82596371, 0.87295644, 0.92862294,\n",
       "       0.96262658, 0.75480894, 0.67590245, 0.51415868, 0.29202929,\n",
       "       0.81190211, 0.86489753, 0.78860412, 0.37001833, 0.99341139,\n",
       "       0.45035637, 0.4572043 , 0.89180062, 0.81565545, 0.02885712,\n",
       "       0.29797388, 0.67100572, 0.49341501, 0.75784324, 0.14189639,\n",
       "       0.36188855, 0.90173438, 0.65270544, 0.44675227, 0.05205527,\n",
       "       0.92819561, 0.42895991, 0.04281845, 0.44053723, 0.4119652 ,\n",
       "       0.53156036, 0.40944124, 0.51308966, 0.08156213, 0.96630236,\n",
       "       0.35362527, 0.75759653, 0.5566997 , 0.94490065, 0.92931688,\n",
       "       0.48950409, 0.36559025, 0.38658109, 0.23692071, 0.75659126,\n",
       "       0.07775946, 0.13186569, 0.15467862, 0.76309551, 0.6453971 ,\n",
       "       0.67111448, 0.13066399, 0.11361004, 0.53744916, 0.26068399,\n",
       "       0.16108961, 0.62568439, 0.9721363 , 0.24378582, 0.67687663,\n",
       "       0.12520236, 0.93379816, 0.7081143 , 0.69408034, 0.17332302,\n",
       "       0.29147064, 0.13999507, 0.15789546, 0.48560029, 0.15890564,\n",
       "       0.731039  , 0.88758408, 0.2664343 , 0.16700194, 0.06993676,\n",
       "       0.24806753, 0.87943882, 0.61025618, 0.58702211, 0.17553369])"
      ]
     },
     "execution_count": 183,
     "metadata": {},
     "output_type": "execute_result"
    }
   ],
   "source": [
    "from scipy.stats import expon\n",
    "expon.rvs(size=10000,loc=0,scale=1)\n",
    "expon.pdf(expon.rvs(size=1000,loc=0,scale=1),loc=0,scale=1)"
   ]
  },
  {
   "cell_type": "code",
   "execution_count": 189,
   "metadata": {},
   "outputs": [
    {
     "data": {
      "text/plain": [
       "<seaborn.axisgrid.FacetGrid at 0x7fc83f288e50>"
      ]
     },
     "execution_count": 189,
     "metadata": {},
     "output_type": "execute_result"
    },
    {
     "data": {
      "image/png": "[encoded data removed]",
      "text/plain": [
       "<Figure size 360x360 with 1 Axes>"
      ]
     },
     "metadata": {},
     "output_type": "display_data"
    }
   ],
   "source": [
    "from scipy.stats import binom\n",
    "sns.displot(binom.rvs(n=10,p=0.8,size=10000),color='skyblue').set(xlabel='Binomial Distribution',ylabel='Frequency')"
   ]
  },
  {
   "cell_type": "code",
   "execution_count": 200,
   "metadata": {},
   "outputs": [
    {
     "ename": "AttributeError",
     "evalue": "'numpy.ndarray' object has no attribute 'median'",
     "output_type": "error",
     "traceback": [
      "\u001b[0;31m---------------------------------------------------------------------------\u001b[0m",
      "\u001b[0;31mAttributeError\u001b[0m                            Traceback (most recent call last)",
      "\u001b[0;32m<ipython-input-200-421b63250f82>\u001b[0m in \u001b[0;36m<module>\u001b[0;34m\u001b[0m\n\u001b[1;32m      1\u001b[0m \u001b[0;31m# to find the median and mode of an array\u001b[0m\u001b[0;34m\u001b[0m\u001b[0;34m\u001b[0m\u001b[0;34m\u001b[0m\u001b[0m\n\u001b[0;32m----> 2\u001b[0;31m \u001b[0mnp\u001b[0m\u001b[0;34m.\u001b[0m\u001b[0marange\u001b[0m\u001b[0;34m(\u001b[0m\u001b[0;36m1\u001b[0m\u001b[0;34m,\u001b[0m\u001b[0;36m11\u001b[0m\u001b[0;34m,\u001b[0m\u001b[0;36m1\u001b[0m\u001b[0;34m)\u001b[0m\u001b[0;34m.\u001b[0m\u001b[0mmedian\u001b[0m\u001b[0;34m(\u001b[0m\u001b[0;34m)\u001b[0m\u001b[0;34m\u001b[0m\u001b[0;34m\u001b[0m\u001b[0m\n\u001b[0m",
      "\u001b[0;31mAttributeError\u001b[0m: 'numpy.ndarray' object has no attribute 'median'"
     ]
    }
   ],
   "source": [
    "# to find the median and mode of an array\n",
    "np.arange(1,11,1).median()"
   ]
  },
  {
   "cell_type": "code",
   "execution_count": null,
   "metadata": {},
   "outputs": [],
   "source": [
    "from scipy.stats import binom\n",
    "data_binom = binom.rvs(n=10,p=0.8,size=10000)"
   ]
  },
  {
   "cell_type": "code",
   "execution_count": null,
   "metadata": {},
   "outputs": [],
   "source": []
  },
  {
   "cell_type": "code",
   "execution_count": null,
   "metadata": {},
   "outputs": [],
   "source": []
  },
  {
   "cell_type": "code",
   "execution_count": null,
   "metadata": {},
   "outputs": [],
   "source": []
  },
  {
   "cell_type": "code",
   "execution_count": null,
   "metadata": {},
   "outputs": [],
   "source": []
  },
  {
   "cell_type": "code",
   "execution_count": null,
   "metadata": {},
   "outputs": [],
   "source": []
  },
  {
   "cell_type": "code",
   "execution_count": null,
   "metadata": {},
   "outputs": [],
   "source": []
  },
  {
   "cell_type": "code",
   "execution_count": null,
   "metadata": {},
   "outputs": [],
   "source": []
  },
  {
   "cell_type": "code",
   "execution_count": null,
   "metadata": {},
   "outputs": [],
   "source": []
  },
  {
   "cell_type": "code",
   "execution_count": null,
   "metadata": {},
   "outputs": [],
   "source": []
  },
  {
   "cell_type": "code",
   "execution_count": null,
   "metadata": {},
   "outputs": [],
   "source": []
  },
  {
   "cell_type": "code",
   "execution_count": null,
   "metadata": {},
   "outputs": [],
   "source": []
  },
  {
   "cell_type": "code",
   "execution_count": null,
   "metadata": {},
   "outputs": [],
   "source": []
  },
  {
   "cell_type": "code",
   "execution_count": null,
   "metadata": {},
   "outputs": [],
   "source": []
  },
  {
   "cell_type": "code",
   "execution_count": null,
   "metadata": {},
   "outputs": [],
   "source": []
  },
  {
   "cell_type": "code",
   "execution_count": null,
   "metadata": {},
   "outputs": [],
   "source": []
  },
  {
   "cell_type": "code",
   "execution_count": null,
   "metadata": {},
   "outputs": [],
   "source": []
  },
  {
   "cell_type": "code",
   "execution_count": null,
   "metadata": {},
   "outputs": [],
   "source": []
  }
 ],
 "metadata": {
  "kernelspec": {
   "display_name": "Python 3",
   "language": "python",
   "name": "python3"
  },
  "language_info": {
   "codemirror_mode": {
    "name": "ipython",
    "version": 3
   },
   "file_extension": ".py",
   "mimetype": "text/x-python",
   "name": "python",
   "nbconvert_exporter": "python",
   "pygments_lexer": "ipython3",
   "version": "3.8.5"
  }
 },
 "nbformat": 4,
 "nbformat_minor": 4
}
